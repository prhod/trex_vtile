{
 "cells": [
  {
   "cell_type": "code",
   "execution_count": 1,
   "metadata": {},
   "outputs": [
    {
     "name": "stdout",
     "output_type": "stream",
     "text": [
      "on supprime la table de restriction des données sur la TAN\n"
     ]
    },
    {
     "ename": "ProgrammingError",
     "evalue": "relation \"tan\" already exists\n",
     "output_type": "error",
     "traceback": [
      "\u001b[0;31m---------------------------------------------------------------------------\u001b[0m",
      "\u001b[0;31mProgrammingError\u001b[0m                          Traceback (most recent call last)",
      "\u001b[0;32m<ipython-input-1-963b4be9bb34>\u001b[0m in \u001b[0;36m<module>\u001b[0;34m()\u001b[0m\n\u001b[1;32m     18\u001b[0m \u001b[0;32mand\u001b[0m \u001b[0moperator\u001b[0m \u001b[0;34m=\u001b[0m \u001b[0;34m'SEMITAN'\u001b[0m\u001b[0;34m\u001b[0m\u001b[0m\n\u001b[1;32m     19\u001b[0m \"\"\"\n\u001b[0;32m---> 20\u001b[0;31m \u001b[0mcur\u001b[0m\u001b[0;34m.\u001b[0m\u001b[0mexecute\u001b[0m\u001b[0;34m(\u001b[0m\u001b[0mcmd\u001b[0m\u001b[0;34m)\u001b[0m\u001b[0;34m\u001b[0m\u001b[0m\n\u001b[0m\u001b[1;32m     21\u001b[0m \u001b[0;34m\u001b[0m\u001b[0m\n\u001b[1;32m     22\u001b[0m \u001b[0mprint\u001b[0m\u001b[0;34m(\u001b[0m\u001b[0;34m'on supprime la table de travail'\u001b[0m\u001b[0;34m)\u001b[0m\u001b[0;34m\u001b[0m\u001b[0m\n",
      "\u001b[0;31mProgrammingError\u001b[0m: relation \"tan\" already exists\n"
     ]
    }
   ],
   "source": [
    "import psycopg2\n",
    "import shapely\n",
    "\n",
    "#TESTER DE FAIRE AVEC ÇA : http://postgis.net/docs/ST_ApproximateMedialAxis.html\n",
    "\n",
    "con = psycopg2.connect(host=\"localhost\", port=54320, database=\"vtile\", user='ubuntu')\n",
    "cur = con.cursor()\n",
    "\n",
    "print('on supprime la table de restriction des données sur la TAN')\n",
    "cmd = \"drop table tan_tmp;\"\n",
    "cur.execute(cmd)\n",
    "\n",
    "cmd = \"\"\"\n",
    "select * \n",
    "into tan\n",
    "from lines\n",
    "where code in ('2', '3')\n",
    "and operator = 'SEMITAN'\n",
    "\"\"\"\n",
    "cur.execute(cmd)\n",
    "\n",
    "print('on supprime la table de travail')\n",
    "cmd = \"drop table tan_tmp;\"\n",
    "cur.execute(cmd)\n",
    "\n",
    "print('on crée la table de travail en éclatant les segments')\n",
    "cmd = \"\"\"\n",
    "select id || '-' || (ST_Dump(geom)).path[1] as id , \n",
    "code, name, colour, mode, network,\n",
    "(ST_Dump(geom)).path[1], \n",
    "(ST_Dump(geom)).geom, ST_Buffer((ST_Dump(geom)).geom, 20), \n",
    "st_length((ST_Dump(geom)).geom) \n",
    "into tan_tmp\n",
    "from tan;\"\"\"\n",
    "cur.execute(cmd)\n",
    "\n",
    "print(\"on supprime les segments de chaque ligne qui est inclus dans un buffer de 20m d'un autre segment plus long\")\n",
    "cmd =\"\"\"\n",
    "delete from tan_tmp\n",
    "where id in (\n",
    "select distinct id from \n",
    "(\n",
    "\t(select code, geom, st_buffer, st_length from tan_tmp) tmp1\n",
    "\tleft join \n",
    "\t(select * from tan_tmp) tmp2\n",
    "\ton tmp1.code = tmp2.code\n",
    "\tand tmp1.st_length > tmp2.st_length\n",
    "\tand st_contains(tmp1.st_buffer, tmp2.geom)\n",
    "\n",
    ") \n",
    "tmp);\n",
    "\"\"\"\n",
    "cur.execute(cmd)"
   ]
  },
  {
   "cell_type": "code",
   "execution_count": null,
   "metadata": {
    "collapsed": true
   },
   "outputs": [],
   "source": [
    "print(\"On crée la table qui contient les segments (avec le nombre de lignes)\")\n",
    "cmd = \"drop table tan_group;\"\n",
    "cur.execute(cmd)\n",
    "cmd=\"\"\"\n",
    "select geom, count(*), array_agg(code) as codes\n",
    "into tan_group\n",
    "from tan_tmp\n",
    "group by geom\n",
    "\"\"\"\n",
    "cur.execute(cmd)\n",
    "cmd=\"\"\"\n",
    "select id, geom, code, name, colour, mode, network\n",
    "into tan_detail\n",
    "from tan_tmp\n",
    "\"\"\"\n",
    "cur.execute(cmd)\n"
   ]
  },
  {
   "cell_type": "code",
   "execution_count": null,
   "metadata": {
    "collapsed": true
   },
   "outputs": [],
   "source": [
    "print('la requete pour trex : ')\n",
    "cmd=\"\"\"\n",
    "select d.*, g.count, array_position(codes, d.code) as offset_order\n",
    "from tan_group g left join tan_detail d\n",
    "on g.geom = d.geom\n",
    "\"\"\"\n",
    "cur.execute(cmd)"
   ]
  },
  {
   "cell_type": "code",
   "execution_count": null,
   "metadata": {
    "collapsed": true
   },
   "outputs": [],
   "source": [
    "con.close()\n",
    "print(\"fin de traitement\")"
   ]
  }
 ],
 "metadata": {
  "kernelspec": {
   "display_name": "Python 3",
   "language": "python",
   "name": "python3"
  },
  "language_info": {
   "codemirror_mode": {
    "name": "ipython",
    "version": 3
   },
   "file_extension": ".py",
   "mimetype": "text/x-python",
   "name": "python",
   "nbconvert_exporter": "python",
   "pygments_lexer": "ipython3",
   "version": "3.5.2"
  }
 },
 "nbformat": 4,
 "nbformat_minor": 2
}
